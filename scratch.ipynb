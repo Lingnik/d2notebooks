{
 "cells": [
  {
   "cell_type": "markdown",
   "metadata": {},
   "source": [
    "### Scratch - for testing python code"
   ]
  },
  {
   "cell_type": "code",
   "execution_count": 1,
   "metadata": {},
   "outputs": [
    {
     "name": "stdout",
     "output_type": "stream",
     "text": [
      "[[1 2 3]\n",
      " [4 5 6]]\n",
      "[1 2 3 4 5 6]\n"
     ]
    }
   ],
   "source": [
    "import numpy as np\n",
    "\n",
    "a = np.array([1, 2, 3])\n",
    "b = np.array([4, 5, 6])\n",
    "\n",
    "c = np.vstack((a, b))  # Stacks vertically\n",
    "d = np.hstack((a, b))  # Stacks horizontally\n",
    "\n",
    "print(c)\n",
    "print(d)"
   ]
  },
  {
   "cell_type": "code",
   "execution_count": 2,
   "metadata": {},
   "outputs": [
    {
     "name": "stdout",
     "output_type": "stream",
     "text": [
      "[1 2 3 4 5 6]\n",
      "[[1 2]\n",
      " [3 4]\n",
      " [5 6]]\n"
     ]
    }
   ],
   "source": [
    "import numpy as np\n",
    "\n",
    "a = np.array([1, 2, 3])\n",
    "b = np.array([4, 5, 6])\n",
    "\n",
    "c = np.concatenate((a, b), axis=0)\n",
    "print(c)\n",
    "\n",
    "a = np.array([[1, 2], [3, 4]])\n",
    "b = np.array([[5, 6]])\n",
    "\n",
    "c = np.concatenate((a, b), axis=0)\n",
    "print(c)"
   ]
  },
  {
   "cell_type": "code",
   "execution_count": 3,
   "metadata": {},
   "outputs": [
    {
     "name": "stdout",
     "output_type": "stream",
     "text": [
      "[1 2 3 4 5 6]\n",
      "[1 2 3 4 5 6]\n"
     ]
    }
   ],
   "source": [
    "import numpy as np\n",
    "\n",
    "a = np.array([1, 2, 3])\n",
    "b = np.array([4, 5, 6])\n",
    "\n",
    "c = np.append(a, b)\n",
    "print(c)\n",
    "\n",
    "a = np.array([[1, 2], [3, 4]])\n",
    "b = np.array([[5, 6]])\n",
    "\n",
    "c = np.append(a, b)\n",
    "print(c)"
   ]
  },
  {
   "cell_type": "code",
   "execution_count": null,
   "metadata": {},
   "outputs": [],
   "source": [
    "import numpy as np\n",
    "\n",
    "# Original stats array\n",
    "stats = np.array([17, 74, 33, 82, 51, 31])\n",
    "\n",
    "# 2-dimensional weights array\n",
    "weights = np.array([\n",
    "    [3, -4, 2, -2, -1, -1],\n",
    "    [-2, 1, 2, -2, -1, -1],\n",
    "    # Add up to 252 sets of weights\n",
    "])\n",
    "\n",
    "# Add the weights to the stats array using broadcasting\n",
    "results = stats + weights\n",
    "\n",
    "print(results)"
   ]
  },
  {
   "cell_type": "code",
   "execution_count": 4,
   "metadata": {},
   "outputs": [
    {
     "name": "stdout",
     "output_type": "stream",
     "text": [
      "[[15 75 35 80 50 30]\n",
      " [20 70 35 80 50 30]]\n"
     ]
    }
   ],
   "source": [
    "import numpy as np\n",
    "\n",
    "# Original stats array\n",
    "stats = np.array([17, 74, 33, 82, 51, 31])\n",
    "\n",
    "# 2-dimensional weights array with multiple sets of weights\n",
    "weights = np.array([\n",
    "    [3, -4, 2, -2, -1, -1],\n",
    "    [-2, 1, 2, -2, -1, -1],\n",
    "    [3, -3, 3, -2, -1, -1],\n",
    "    [-2, 1, 2, -2, -1, -1],\n",
    "    # Add more sets of weights as needed, up to 252\n",
    "])\n",
    "\n",
    "# Add the weights to the stats array using broadcasting\n",
    "results = stats + weights\n",
    "\n",
    "# Function to round down to the nearest 5\n",
    "def round_down_to_nearest_5(x):\n",
    "    return x // 5 * 5\n",
    "\n",
    "# Apply the rounding function using numpy vectorization\n",
    "rounded_results = round_down_to_nearest_5(results)\n",
    "\n",
    "# Use numpy's unique function to get unique rows\n",
    "unique_results = np.unique(rounded_results, axis=0)\n",
    "\n",
    "# Print the results\n",
    "print(unique_results)"
   ]
  },
  {
   "cell_type": "code",
   "execution_count": 5,
   "metadata": {},
   "outputs": [
    {
     "name": "stdout",
     "output_type": "stream",
     "text": [
      "Unique slices along axis=0:\n",
      "[[[ 1  2  3]\n",
      "  [ 4  5  6]]\n",
      "\n",
      " [[ 7  8  9]\n",
      "  [10 11 12]]]\n",
      "Unique slices along axis=1:\n",
      "[[[ 1  2  3]\n",
      "  [ 4  5  6]]\n",
      "\n",
      " [[ 1  2  3]\n",
      "  [ 4  5  6]]\n",
      "\n",
      " [[ 7  8  9]\n",
      "  [10 11 12]]]\n",
      "Unique slices along axis=2:\n",
      "[[[ 1  2  3]\n",
      "  [ 4  5  6]]\n",
      "\n",
      " [[ 1  2  3]\n",
      "  [ 4  5  6]]\n",
      "\n",
      " [[ 7  8  9]\n",
      "  [10 11 12]]]\n"
     ]
    }
   ],
   "source": [
    "import numpy as np\n",
    "\n",
    "# Example 3D array\n",
    "array_3d = np.array([\n",
    "    [[1, 2, 3], [4, 5, 6]],\n",
    "    [[1, 2, 3], [4, 5, 6]],\n",
    "    [[7, 8, 9], [10, 11, 12]],\n",
    "])\n",
    "\n",
    "# Find unique 2D slices along the first axis (axis=0)\n",
    "unique_slices_axis0 = np.unique(array_3d, axis=0)\n",
    "\n",
    "# Find unique 2D slices along the second axis (axis=1)\n",
    "unique_slices_axis1 = np.unique(array_3d, axis=1)\n",
    "\n",
    "# Find unique 1D slices along the third axis (axis=2)\n",
    "unique_slices_axis2 = np.unique(array_3d, axis=2)\n",
    "\n",
    "print(\"Unique slices along axis=0:\")\n",
    "print(unique_slices_axis0)\n",
    "\n",
    "print(\"Unique slices along axis=1:\")\n",
    "print(unique_slices_axis1)\n",
    "\n",
    "print(\"Unique slices along axis=2:\")\n",
    "print(unique_slices_axis2)"
   ]
  },
  {
   "cell_type": "markdown",
   "metadata": {},
   "source": [
    "#  Lance DB testing\n",
    "https://github.com/lancedb/lancedb"
   ]
  },
  {
   "cell_type": "code",
   "execution_count": 8,
   "metadata": {},
   "outputs": [
    {
     "name": "stdout",
     "output_type": "stream",
     "text": [
      "Requirement already satisfied: lancedb in /Users/tednaleid/.pyenv/versions/3.12.2/envs/d2notebooks-3.12.2/lib/python3.12/site-packages (0.6.13)\n",
      "Requirement already satisfied: deprecation in /Users/tednaleid/.pyenv/versions/3.12.2/envs/d2notebooks-3.12.2/lib/python3.12/site-packages (from lancedb) (2.1.0)\n",
      "Requirement already satisfied: pylance==0.10.12 in /Users/tednaleid/.pyenv/versions/3.12.2/envs/d2notebooks-3.12.2/lib/python3.12/site-packages (from lancedb) (0.10.12)\n",
      "Requirement already satisfied: ratelimiter~=1.0 in /Users/tednaleid/.pyenv/versions/3.12.2/envs/d2notebooks-3.12.2/lib/python3.12/site-packages (from lancedb) (1.2.0.post0)\n",
      "Requirement already satisfied: requests>=2.31.0 in /Users/tednaleid/.pyenv/versions/3.12.2/envs/d2notebooks-3.12.2/lib/python3.12/site-packages (from lancedb) (2.31.0)\n",
      "Requirement already satisfied: retry>=0.9.2 in /Users/tednaleid/.pyenv/versions/3.12.2/envs/d2notebooks-3.12.2/lib/python3.12/site-packages (from lancedb) (0.9.2)\n",
      "Requirement already satisfied: tqdm>=4.27.0 in /Users/tednaleid/.pyenv/versions/3.12.2/envs/d2notebooks-3.12.2/lib/python3.12/site-packages (from lancedb) (4.66.4)\n",
      "Requirement already satisfied: pydantic>=1.10 in /Users/tednaleid/.pyenv/versions/3.12.2/envs/d2notebooks-3.12.2/lib/python3.12/site-packages (from lancedb) (2.7.1)\n",
      "Requirement already satisfied: attrs>=21.3.0 in /Users/tednaleid/.pyenv/versions/3.12.2/envs/d2notebooks-3.12.2/lib/python3.12/site-packages (from lancedb) (23.2.0)\n",
      "Requirement already satisfied: semver in /Users/tednaleid/.pyenv/versions/3.12.2/envs/d2notebooks-3.12.2/lib/python3.12/site-packages (from lancedb) (3.0.2)\n",
      "Requirement already satisfied: cachetools in /Users/tednaleid/.pyenv/versions/3.12.2/envs/d2notebooks-3.12.2/lib/python3.12/site-packages (from lancedb) (5.3.3)\n",
      "Requirement already satisfied: overrides>=0.7 in /Users/tednaleid/.pyenv/versions/3.12.2/envs/d2notebooks-3.12.2/lib/python3.12/site-packages (from lancedb) (7.7.0)\n",
      "Requirement already satisfied: pyarrow<15.0.1,>=12 in /Users/tednaleid/.pyenv/versions/3.12.2/envs/d2notebooks-3.12.2/lib/python3.12/site-packages (from pylance==0.10.12->lancedb) (15.0.0)\n",
      "Requirement already satisfied: numpy>=1.22 in /Users/tednaleid/.pyenv/versions/3.12.2/envs/d2notebooks-3.12.2/lib/python3.12/site-packages (from pylance==0.10.12->lancedb) (1.26.4)\n",
      "Requirement already satisfied: annotated-types>=0.4.0 in /Users/tednaleid/.pyenv/versions/3.12.2/envs/d2notebooks-3.12.2/lib/python3.12/site-packages (from pydantic>=1.10->lancedb) (0.7.0)\n",
      "Requirement already satisfied: pydantic-core==2.18.2 in /Users/tednaleid/.pyenv/versions/3.12.2/envs/d2notebooks-3.12.2/lib/python3.12/site-packages (from pydantic>=1.10->lancedb) (2.18.2)\n",
      "Requirement already satisfied: typing-extensions>=4.6.1 in /Users/tednaleid/.pyenv/versions/3.12.2/envs/d2notebooks-3.12.2/lib/python3.12/site-packages (from pydantic>=1.10->lancedb) (4.11.0)\n",
      "Requirement already satisfied: charset-normalizer<4,>=2 in /Users/tednaleid/.pyenv/versions/3.12.2/envs/d2notebooks-3.12.2/lib/python3.12/site-packages (from requests>=2.31.0->lancedb) (3.3.2)\n",
      "Requirement already satisfied: idna<4,>=2.5 in /Users/tednaleid/.pyenv/versions/3.12.2/envs/d2notebooks-3.12.2/lib/python3.12/site-packages (from requests>=2.31.0->lancedb) (3.7)\n",
      "Requirement already satisfied: urllib3<3,>=1.21.1 in /Users/tednaleid/.pyenv/versions/3.12.2/envs/d2notebooks-3.12.2/lib/python3.12/site-packages (from requests>=2.31.0->lancedb) (2.2.1)\n",
      "Requirement already satisfied: certifi>=2017.4.17 in /Users/tednaleid/.pyenv/versions/3.12.2/envs/d2notebooks-3.12.2/lib/python3.12/site-packages (from requests>=2.31.0->lancedb) (2024.2.2)\n",
      "Requirement already satisfied: decorator>=3.4.2 in /Users/tednaleid/.pyenv/versions/3.12.2/envs/d2notebooks-3.12.2/lib/python3.12/site-packages (from retry>=0.9.2->lancedb) (5.1.1)\n",
      "Requirement already satisfied: py<2.0.0,>=1.4.26 in /Users/tednaleid/.pyenv/versions/3.12.2/envs/d2notebooks-3.12.2/lib/python3.12/site-packages (from retry>=0.9.2->lancedb) (1.11.0)\n",
      "Requirement already satisfied: packaging in /Users/tednaleid/.pyenv/versions/3.12.2/envs/d2notebooks-3.12.2/lib/python3.12/site-packages (from deprecation->lancedb) (24.0)\n",
      "Requirement already satisfied: ipywidgets in /Users/tednaleid/.pyenv/versions/3.12.2/envs/d2notebooks-3.12.2/lib/python3.12/site-packages (8.1.2)\n",
      "Requirement already satisfied: comm>=0.1.3 in /Users/tednaleid/.pyenv/versions/3.12.2/envs/d2notebooks-3.12.2/lib/python3.12/site-packages (from ipywidgets) (0.2.2)\n",
      "Requirement already satisfied: ipython>=6.1.0 in /Users/tednaleid/.pyenv/versions/3.12.2/envs/d2notebooks-3.12.2/lib/python3.12/site-packages (from ipywidgets) (8.24.0)\n",
      "Requirement already satisfied: traitlets>=4.3.1 in /Users/tednaleid/.pyenv/versions/3.12.2/envs/d2notebooks-3.12.2/lib/python3.12/site-packages (from ipywidgets) (5.14.3)\n",
      "Requirement already satisfied: widgetsnbextension~=4.0.10 in /Users/tednaleid/.pyenv/versions/3.12.2/envs/d2notebooks-3.12.2/lib/python3.12/site-packages (from ipywidgets) (4.0.10)\n",
      "Requirement already satisfied: jupyterlab-widgets~=3.0.10 in /Users/tednaleid/.pyenv/versions/3.12.2/envs/d2notebooks-3.12.2/lib/python3.12/site-packages (from ipywidgets) (3.0.10)\n",
      "Requirement already satisfied: decorator in /Users/tednaleid/.pyenv/versions/3.12.2/envs/d2notebooks-3.12.2/lib/python3.12/site-packages (from ipython>=6.1.0->ipywidgets) (5.1.1)\n",
      "Requirement already satisfied: jedi>=0.16 in /Users/tednaleid/.pyenv/versions/3.12.2/envs/d2notebooks-3.12.2/lib/python3.12/site-packages (from ipython>=6.1.0->ipywidgets) (0.19.1)\n",
      "Requirement already satisfied: matplotlib-inline in /Users/tednaleid/.pyenv/versions/3.12.2/envs/d2notebooks-3.12.2/lib/python3.12/site-packages (from ipython>=6.1.0->ipywidgets) (0.1.7)\n",
      "Requirement already satisfied: prompt-toolkit<3.1.0,>=3.0.41 in /Users/tednaleid/.pyenv/versions/3.12.2/envs/d2notebooks-3.12.2/lib/python3.12/site-packages (from ipython>=6.1.0->ipywidgets) (3.0.43)\n",
      "Requirement already satisfied: pygments>=2.4.0 in /Users/tednaleid/.pyenv/versions/3.12.2/envs/d2notebooks-3.12.2/lib/python3.12/site-packages (from ipython>=6.1.0->ipywidgets) (2.18.0)\n",
      "Requirement already satisfied: stack-data in /Users/tednaleid/.pyenv/versions/3.12.2/envs/d2notebooks-3.12.2/lib/python3.12/site-packages (from ipython>=6.1.0->ipywidgets) (0.6.3)\n",
      "Requirement already satisfied: pexpect>4.3 in /Users/tednaleid/.pyenv/versions/3.12.2/envs/d2notebooks-3.12.2/lib/python3.12/site-packages (from ipython>=6.1.0->ipywidgets) (4.9.0)\n",
      "Requirement already satisfied: parso<0.9.0,>=0.8.3 in /Users/tednaleid/.pyenv/versions/3.12.2/envs/d2notebooks-3.12.2/lib/python3.12/site-packages (from jedi>=0.16->ipython>=6.1.0->ipywidgets) (0.8.4)\n",
      "Requirement already satisfied: ptyprocess>=0.5 in /Users/tednaleid/.pyenv/versions/3.12.2/envs/d2notebooks-3.12.2/lib/python3.12/site-packages (from pexpect>4.3->ipython>=6.1.0->ipywidgets) (0.7.0)\n",
      "Requirement already satisfied: wcwidth in /Users/tednaleid/.pyenv/versions/3.12.2/envs/d2notebooks-3.12.2/lib/python3.12/site-packages (from prompt-toolkit<3.1.0,>=3.0.41->ipython>=6.1.0->ipywidgets) (0.2.13)\n",
      "Requirement already satisfied: executing>=1.2.0 in /Users/tednaleid/.pyenv/versions/3.12.2/envs/d2notebooks-3.12.2/lib/python3.12/site-packages (from stack-data->ipython>=6.1.0->ipywidgets) (2.0.1)\n",
      "Requirement already satisfied: asttokens>=2.1.0 in /Users/tednaleid/.pyenv/versions/3.12.2/envs/d2notebooks-3.12.2/lib/python3.12/site-packages (from stack-data->ipython>=6.1.0->ipywidgets) (2.4.1)\n",
      "Requirement already satisfied: pure-eval in /Users/tednaleid/.pyenv/versions/3.12.2/envs/d2notebooks-3.12.2/lib/python3.12/site-packages (from stack-data->ipython>=6.1.0->ipywidgets) (0.2.2)\n",
      "Requirement already satisfied: six>=1.12.0 in /Users/tednaleid/.pyenv/versions/3.12.2/envs/d2notebooks-3.12.2/lib/python3.12/site-packages (from asttokens>=2.1.0->stack-data->ipython>=6.1.0->ipywidgets) (1.16.0)\n"
     ]
    }
   ],
   "source": [
    "%%bash\n",
    "pip install lancedb\n",
    "pip install ipywidgets"
   ]
  },
  {
   "cell_type": "code",
   "execution_count": 9,
   "metadata": {},
   "outputs": [
    {
     "data": {
      "text/html": [
       "<div>\n",
       "<style scoped>\n",
       "    .dataframe tbody tr th:only-of-type {\n",
       "        vertical-align: middle;\n",
       "    }\n",
       "\n",
       "    .dataframe tbody tr th {\n",
       "        vertical-align: top;\n",
       "    }\n",
       "\n",
       "    .dataframe thead th {\n",
       "        text-align: right;\n",
       "    }\n",
       "</style>\n",
       "<table border=\"1\" class=\"dataframe\">\n",
       "  <thead>\n",
       "    <tr style=\"text-align: right;\">\n",
       "      <th></th>\n",
       "      <th>vector</th>\n",
       "      <th>item</th>\n",
       "      <th>price</th>\n",
       "      <th>_distance</th>\n",
       "    </tr>\n",
       "  </thead>\n",
       "  <tbody>\n",
       "    <tr>\n",
       "      <th>0</th>\n",
       "      <td>[5.9, 26.5]</td>\n",
       "      <td>bar</td>\n",
       "      <td>20.0</td>\n",
       "      <td>14257.059570</td>\n",
       "    </tr>\n",
       "    <tr>\n",
       "      <th>1</th>\n",
       "      <td>[3.1, 4.1]</td>\n",
       "      <td>foo</td>\n",
       "      <td>10.0</td>\n",
       "      <td>18586.421875</td>\n",
       "    </tr>\n",
       "  </tbody>\n",
       "</table>\n",
       "</div>"
      ],
      "text/plain": [
       "        vector item  price     _distance\n",
       "0  [5.9, 26.5]  bar   20.0  14257.059570\n",
       "1   [3.1, 4.1]  foo   10.0  18586.421875"
      ]
     },
     "execution_count": 9,
     "metadata": {},
     "output_type": "execute_result"
    }
   ],
   "source": [
    "import lancedb\n",
    "\n",
    "uri = \"data/sample-lancedb\"\n",
    "db = lancedb.connect(uri)\n",
    "table = db.create_table(\"my_table\",\n",
    "                         exist_ok=True,\n",
    "                         data=[{\"vector\": [3.1, 4.1], \"item\": \"foo\", \"price\": 10.0},\n",
    "                               {\"vector\": [5.9, 26.5], \"item\": \"bar\", \"price\": 20.0}])\n",
    "result = table.search([100, 100]).limit(2).to_pandas()\n",
    "result"
   ]
  },
  {
   "cell_type": "code",
   "execution_count": null,
   "metadata": {},
   "outputs": [],
   "source": [
    "# todo: see what the performance is if we insert all the armor pieces into a lancedb table and then query for the best outfits"
   ]
  }
 ],
 "metadata": {
  "kernelspec": {
   "display_name": "d2notebooks-3.12.2",
   "language": "python",
   "name": "python3"
  },
  "language_info": {
   "codemirror_mode": {
    "name": "ipython",
    "version": 3
   },
   "file_extension": ".py",
   "mimetype": "text/x-python",
   "name": "python",
   "nbconvert_exporter": "python",
   "pygments_lexer": "ipython3",
   "version": "3.12.2"
  }
 },
 "nbformat": 4,
 "nbformat_minor": 2
}
